{
 "cells": [
  {
   "cell_type": "markdown",
   "metadata": {},
   "source": [
    "# Simple C++ Benchmarking in a Notebook"
   ]
  },
  {
   "cell_type": "code",
   "execution_count": null,
   "metadata": {
    "vscode": {
     "languageId": "plaintext"
    }
   },
   "outputs": [],
   "source": [
    "#include <chrono>\n",
    "#include <iostream>\n",
    "\n",
    "void SomeFunctionToBenchmark() {\n",
    "    // Example function body\n",
    "    volatile int sum = 0;\n",
    "    for (int i = 0; i < 1000; ++i) sum += i;\n",
    "}\n",
    "\n",
    "// Manually time the function\n",
    "auto start = std::chrono::high_resolution_clock::now();\n",
    "SomeFunctionToBenchmark();\n",
    "auto end = std::chrono::high_resolution_clock::now();\n",
    "\n",
    "std::chrono::duration<double, std::milli> duration = end - start;\n",
    "std::cout << \"Duration: \" << duration.count() << \"ms\" << std::endl;\n"
   ]
  }
 ],
 "metadata": {
  "language_info": {
   "name": "python"
  }
 },
 "nbformat": 4,
 "nbformat_minor": 2
}
